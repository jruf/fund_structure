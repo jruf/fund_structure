{
 "cells": [
  {
   "cell_type": "markdown",
   "metadata": {},
   "source": [
    "# Code for the empirical analysis in the paper 'Growth and fund structures'\n",
    "### Constantinos Kardaras; Hyeng Keun Koo; Johannes Ruf\n",
    "### July 2025"
   ]
  },
  {
   "cell_type": "markdown",
   "metadata": {},
   "source": [
    "To run this code, the user must have access to WRDS, along with the Python package `wrds`.  For more details on WRDS and how to interact with WRDS, see the course notes on https://github.com/johruf/CRSP_on_WRDS_introduction."
   ]
  },
  {
   "cell_type": "code",
   "execution_count": 1,
   "metadata": {},
   "outputs": [],
   "source": [
    "import numpy as np\n",
    "import pandas as pd\n",
    "import scipy.stats as stats\n",
    "\n",
    "import matplotlib.pyplot as plt\n",
    "import seaborn as sns; sns.set()\n",
    "\n",
    "import wrds   # needs to be installed, e.g. via pip"
   ]
  },
  {
   "cell_type": "code",
   "execution_count": 2,
   "metadata": {},
   "outputs": [],
   "source": [
    "WRDS_LOGIN = 'xxx'    # update to your login info on WRDS"
   ]
  },
  {
   "cell_type": "markdown",
   "metadata": {},
   "source": [
    "## Getting data"
   ]
  },
  {
   "cell_type": "code",
   "execution_count": null,
   "metadata": {},
   "outputs": [
    {
     "name": "stdout",
     "output_type": "stream",
     "text": [
      "Loading library list...\n",
      "Done\n"
     ]
    }
   ],
   "source": [
    "def load_data():\n",
    "    \"\"\"Load data from WRDS\"\"\"\n",
    "    try:\n",
    "        with wrds.Connection(wrds_username=WRDS_LOGIN) as db:\n",
    "            df_idx = db.raw_sql(\"SELECT caldt AS date, vwretd, totcnt FROM crsp.dsp500_v2\", \n",
    "                               date_cols='date').set_index('date')\n",
    "            df_rf = db.raw_sql(\"SELECT date, rf FROM ff.factors_daily\", \n",
    "                              date_cols='date').set_index('date')\n",
    "        return df_idx, df_rf\n",
    "    except Exception as e:\n",
    "        print(f\"Error loading data: {e}\")\n",
    "        raise\n",
    "\n",
    "df_idx, df_rf = load_data()"
   ]
  },
  {
   "cell_type": "markdown",
   "metadata": {},
   "source": [
    "`vwretd` corresponds to CRSP's Value-Weighted Return Index (which reinvests dividends).\n",
    "\n",
    "`rf` is from the Fama-French data, and uses 1M treasury rates. Data are only available beginning July 1st, 1926."
   ]
  },
  {
   "cell_type": "code",
   "execution_count": null,
   "metadata": {},
   "outputs": [],
   "source": [
    "df_idx.head()"
   ]
  },
  {
   "cell_type": "code",
   "execution_count": null,
   "metadata": {},
   "outputs": [],
   "source": [
    "df_rf.head()"
   ]
  },
  {
   "cell_type": "code",
   "execution_count": null,
   "metadata": {},
   "outputs": [],
   "source": [
    "# Getting rid of data that were not available at the time when the paper was written\n",
    "CUTOFF_DATE = '2024-12-31'"
   ]
  },
  {
   "cell_type": "code",
   "execution_count": null,
   "metadata": {},
   "outputs": [],
   "source": [
    "df = df_idx.merge(df_rf, how='left', left_index=True, right_index=True)['1926-06-30':CUTOFF_DATE]"
   ]
  },
  {
   "cell_type": "code",
   "execution_count": null,
   "metadata": {},
   "outputs": [],
   "source": [
    "df.head(3)"
   ]
  },
  {
   "cell_type": "code",
   "execution_count": null,
   "metadata": {},
   "outputs": [],
   "source": [
    "df.tail(3)"
   ]
  },
  {
   "cell_type": "code",
   "execution_count": null,
   "metadata": {},
   "outputs": [],
   "source": [
    "# Calculate wealth processes\n",
    "df['W_risky'] = (1 + df['vwretd']).cumprod()\n",
    "df['W_risky'] /= df['W_risky'].iloc[0]\n",
    "\n",
    "df['W_rf'] = (1 + df['rf']).cumprod()\n",
    "df.at[df.index[0], 'W_rf'] = 1.0\n",
    "\n",
    "df['W_disc'] = df['W_risky'] / df['W_rf']\n",
    "df['disc_ret'] = df['W_disc'] / df['W_disc'].shift(1) - 1\n",
    "\n",
    "df['C'] = (df['disc_ret']**2).cumsum()\n",
    "df['R'] = df['disc_ret'].cumsum()\n",
    "\n",
    "# Remove first day (no return data)\n",
    "df = df['1926-07-01':]"
   ]
  },
  {
   "cell_type": "code",
   "execution_count": null,
   "metadata": {},
   "outputs": [],
   "source": [
    "df.head(3)"
   ]
  },
  {
   "cell_type": "code",
   "execution_count": null,
   "metadata": {},
   "outputs": [],
   "source": [
    "df.tail(3)"
   ]
  },
  {
   "cell_type": "markdown",
   "metadata": {},
   "source": [
    "## Auxiliary functions"
   ]
  },
  {
   "cell_type": "code",
   "execution_count": null,
   "metadata": {},
   "outputs": [],
   "source": [
    "def shrinkage_factor(nuhat, df, start_of_plot=0, start_of_data=-1, α=[], β=[]):    \n",
    "    \"\"\"\n",
    "    Calculate shrinkage factor for one-fund model \n",
    "    alpha and beta parameters in case of restricted Gaussian prior \n",
    "\n",
    "    Based on: shrink(x) = 1 - 3 / (1 + tmp^(2/3) + tmp^(-2/3))\n",
    "    where tmp = sqrt(1+x) + sqrt(x)\n",
    "    \"\"\"\n",
    "    def shrink(x):\n",
    "        tmp = np.sqrt(1 + x) + np.sqrt(x)\n",
    "        return 1 - 3 / (1 + tmp**(2/3) + tmp**(-2/3))\n",
    "\n",
    "    C = df['C'].iloc[start_of_plot:]\n",
    "    if start_of_data > -1:\n",
    "        C = C - df['C'].iloc[start_of_data]\n",
    "    \n",
    "    if len(α) == 0:\n",
    "        κ = 1/C\n",
    "    else:\n",
    "        tmp_num = stats.norm.cdf(β) - stats.norm.cdf(α)\n",
    "        κ = 1/C * (1 + (- β * stats.norm.pdf(β) + α * stats.norm.pdf(α))/tmp_num - \n",
    "                     ((stats.norm.pdf(β) - stats.norm.pdf(α)) / tmp_num)**2)\n",
    "    \n",
    "    ψ = 27 / 8 * nuhat**2 / κ\n",
    "    return shrink(ψ)"
   ]
  },
  {
   "cell_type": "code",
   "execution_count": null,
   "metadata": {},
   "outputs": [],
   "source": [
    "def plot_wealth(df, start=-1, ttitle=''):\n",
    "    if start == -1:\n",
    "        start = 0\n",
    "    (df.iloc[start:] / df.iloc[start]).plot(logy=True, title=ttitle);"
   ]
  },
  {
   "cell_type": "code",
   "execution_count": null,
   "metadata": {},
   "outputs": [],
   "source": [
    "def plot_panel(df, start_of_plot=0, start_of_data=-1, restricted=0, ttitle='', filename=''):\n",
    "    if start_of_plot <= start_of_data:\n",
    "        raise ValueError(\"start_of_plot must be greater than start_of_data\")\n",
    "\n",
    "    R = df['R'].iloc[start_of_plot:]\n",
    "    C = df['C'].iloc[start_of_plot:] \n",
    "    if start_of_data > -1:\n",
    "        R = R - df['R'].iloc[start_of_data]\n",
    "        C = C - df['C'].iloc[start_of_data]\n",
    "\n",
    "    \n",
    "    if restricted == 0:\n",
    "        nuhat = R / C\n",
    "        sf = shrinkage_factor(nuhat, df, start_of_plot, start_of_data)\n",
    "    else:\n",
    "        a, b = restricted\n",
    "        sqrt_C = np.sqrt(C)\n",
    "        α = sqrt_C * (a - R / C)\n",
    "        β = sqrt_C * (b - R / C)\n",
    "        nuhat = R / C + (1 / sqrt_C) * (stats.norm.pdf(α) - stats.norm.pdf(β)) / (stats.norm.cdf(β) - stats.norm.cdf(α))\n",
    "        sf = shrinkage_factor(nuhat, df, start_of_plot, start_of_data, α, β)\n",
    "\n",
    "\n",
    "    # Calculate wealth processes\n",
    "    W_nuhat = (df['disc_ret'] * nuhat.shift(1).fillna(0) + 1).cumprod()\n",
    "    W_nuhat = W_nuhat.iloc[start_of_plot:] / W_nuhat.iloc[start_of_plot]\n",
    "    \n",
    "    W_nuhat_s = (df['disc_ret'] * (nuhat * sf).shift(1).fillna(0) + 1).cumprod()\n",
    "    W_nuhat_s = W_nuhat_s.iloc[start_of_plot:] / W_nuhat_s.iloc[start_of_plot]\n",
    "    \n",
    "    W_disc = df['W_disc'].iloc[start_of_plot:] / df['W_disc'].iloc[start_of_plot]\n",
    "\n",
    "    # Calculate F (maximal achievable growth)\n",
    "    dC = df['C'].diff()\n",
    "    theta_squared = (df['R'] / df['C']).shift(1).fillna(0) ** 2\n",
    "    F = (dC * theta_squared).cumsum() / 2\n",
    "    F = F.iloc[start_of_plot:] - F.iloc[start_of_plot]\n",
    "\n",
    "    \n",
    "\n",
    "    fig, ax = plt.subplots(2, 2, figsize=(15, 12))\n",
    "    \n",
    "    # Panel [0,0]: θ-hat and shrunk θ-hat\n",
    "    ax[0, 0].plot(nuhat, 'b', label=r\"$\\hat{\\theta}$\", linewidth=1.5)\n",
    "    ax[0, 0].plot(nuhat * sf, 'r', label=r\"$a \\hat{\\theta}$\", linewidth=1.5)\n",
    "    ax[0, 0].set_title(r'Estimate of $\\hat{\\theta}$ in the Bayesian setting')\n",
    "    ax[0, 0].legend(frameon=False)\n",
    "    \n",
    "    # Panel [1,0]: shrinkage factor\n",
    "    ax[1, 0].plot(sf, 'r', label=r\"$a$\", linewidth=1.5)\n",
    "    ax[1, 0].set_title(r'Shrinkage factor $a$')\n",
    "    ax[1, 0].legend(frameon=False)\n",
    "    \n",
    "    # Panel [0,1]: wealth processes\n",
    "    ax[0, 1].plot(np.log(W_nuhat), 'b', linewidth=1.5, label=r'Log-wealth, using $\\hat{\\theta}$')\n",
    "    ax[0, 1].plot(np.log(W_nuhat_s), 'r', linewidth=1.5, label=r'Log-wealth, using $a \\hat{\\theta}$')\n",
    "    ax[0, 1].plot(np.log(W_disc), 'k', linewidth=1.5, label=r'Log-market portfolio')\n",
    "    ax[0, 1].plot(F, 'g', linewidth=1.5, label=r'Maximal $\\mathcal{F}$-achievable growth $F$')\n",
    "    ax[0, 1].set_title('Logarithm of wealth processes')\n",
    "    ax[0, 1].legend(frameon=False, fontsize=9)\n",
    "    \n",
    "    # Panel [1,1]: Integrated variance\n",
    "    ax[1, 1].plot(C, 'm', linewidth=1.5, label=r'$C_{ww}$')\n",
    "    ax[1, 1].set_title(r'Integrated variance $C_{ww}$')\n",
    "    ax[1, 1].legend(frameon=False)\n",
    "\n",
    "    \n",
    "    plt.suptitle(ttitle, fontsize=14)\n",
    "    plt.tight_layout(rect=[0, 0.03, 1, 0.95])\n",
    "    \n",
    "    if filename:\n",
    "        # Create plots directory if it doesn't exist\n",
    "        import os\n",
    "        os.makedirs('plots', exist_ok=True)\n",
    "        fig.savefig(f'plots/{filename}.png')\n",
    "        print(f\"Plot saved as plots/{filename}.png\")"
   ]
  },
  {
   "cell_type": "markdown",
   "metadata": {},
   "source": [
    "## Preliminary analysis and dummy checks"
   ]
  },
  {
   "cell_type": "code",
   "execution_count": null,
   "metadata": {},
   "outputs": [],
   "source": [
    "print(f\"Date range: {df.index[0]} to {df.index[-1]}\")\n",
    "print(f\"Total observations: {len(df)}\")"
   ]
  },
  {
   "cell_type": "code",
   "execution_count": null,
   "metadata": {},
   "outputs": [],
   "source": [
    "plot_wealth(df[['W_risky', 'W_disc', 'W_rf']], ttitle='Various wealth processes')"
   ]
  },
  {
   "cell_type": "markdown",
   "metadata": {},
   "source": [
    "Let's compute the discounted return differently, via excess returns:"
   ]
  },
  {
   "cell_type": "code",
   "execution_count": null,
   "metadata": {},
   "outputs": [],
   "source": [
    "rtrn_excess = df['vwretd'] - df['rf']\n",
    "df['W_excess'] = (rtrn_excess.fillna(0) + 1).cumprod()\n",
    "df['W_excess'] = df['W_excess'] "
   ]
  },
  {
   "cell_type": "code",
   "execution_count": null,
   "metadata": {},
   "outputs": [],
   "source": [
    "plot_wealth(df[['W_disc', 'W_excess']], ttitle='Dummy check: compute discounted wealth index in different ways')"
   ]
  },
  {
   "cell_type": "code",
   "execution_count": null,
   "metadata": {},
   "outputs": [],
   "source": [
    "df[['W_disc', 'W_excess']].tail(3)"
   ]
  },
  {
   "cell_type": "code",
   "execution_count": null,
   "metadata": {},
   "outputs": [],
   "source": [
    "if 'W_excess' in df.columns:\n",
    "    del df['W_excess']"
   ]
  },
  {
   "cell_type": "markdown",
   "metadata": {},
   "source": [
    "Let's compute integrated variance (via quadratic variation) differently:"
   ]
  },
  {
   "cell_type": "code",
   "execution_count": null,
   "metadata": {},
   "outputs": [],
   "source": [
    "df['QV_raw'] = (df['vwretd']**2).cumsum()"
   ]
  },
  {
   "cell_type": "code",
   "execution_count": null,
   "metadata": {},
   "outputs": [],
   "source": [
    "df[['QV_raw', 'C']].plot(title='Quadratic variation (raw and discounted returns)');"
   ]
  },
  {
   "cell_type": "code",
   "execution_count": null,
   "metadata": {},
   "outputs": [],
   "source": [
    "df[['QV_raw', 'C']].tail(3)"
   ]
  },
  {
   "cell_type": "code",
   "execution_count": null,
   "metadata": {},
   "outputs": [],
   "source": [
    "if 'QV_raw' in df.columns:\n",
    "    del df['QV_raw']"
   ]
  },
  {
   "cell_type": "markdown",
   "metadata": {},
   "source": [
    "## Creating the panel for the paper"
   ]
  },
  {
   "cell_type": "code",
   "execution_count": null,
   "metadata": {},
   "outputs": [],
   "source": [
    "df.iloc[7368:7372]"
   ]
  },
  {
   "cell_type": "code",
   "execution_count": null,
   "metadata": {},
   "outputs": [],
   "source": [
    "idx_July1951 = 7370"
   ]
  },
  {
   "cell_type": "code",
   "execution_count": null,
   "metadata": {},
   "outputs": [],
   "source": [
    "df.index[idx_July1951]"
   ]
  },
  {
   "cell_type": "code",
   "execution_count": null,
   "metadata": {},
   "outputs": [],
   "source": [
    "plot_panel(df, start_of_plot=idx_July1951, filename='US')"
   ]
  },
  {
   "cell_type": "markdown",
   "metadata": {},
   "source": [
    "## Some robustness checks"
   ]
  },
  {
   "cell_type": "markdown",
   "metadata": {},
   "source": [
    "Let's use data only after 1957, March 1, when the index contains around 500 stocks."
   ]
  },
  {
   "cell_type": "code",
   "execution_count": null,
   "metadata": {},
   "outputs": [],
   "source": [
    "df['totcnt'].plot(title='Number of stocks in index');"
   ]
  },
  {
   "cell_type": "code",
   "execution_count": null,
   "metadata": {},
   "outputs": [],
   "source": [
    "idx_500 = 8825 \n",
    "df.iloc[idx_500-1:].head(4)"
   ]
  },
  {
   "cell_type": "markdown",
   "metadata": {},
   "source": [
    "If only data are used after 500 stocks are included, again starting the plot 7370 trading days later."
   ]
  },
  {
   "cell_type": "code",
   "execution_count": null,
   "metadata": {},
   "outputs": [],
   "source": [
    "plot_panel(df, start_of_plot=idx_500+7370, start_of_data=idx_500, ttitle='US (using data after 500 stocks introduced)')"
   ]
  },
  {
   "cell_type": "markdown",
   "metadata": {},
   "source": [
    "Now restrict $\\nu$ to lie in a certain range $(a,b)$, via a restricted Gaussian prior."
   ]
  },
  {
   "cell_type": "code",
   "execution_count": null,
   "metadata": {},
   "outputs": [],
   "source": [
    "bounds = [0.5, 3]\n",
    "plot_panel(df, start_of_plot=idx_July1951, restricted=bounds, ttitle='US (nuhat restricted to [{},{}])'.format(bounds[0], bounds[1]))"
   ]
  },
  {
   "cell_type": "markdown",
   "metadata": {},
   "source": [
    "### Dummy check: Maximal achievable $\\mathcal F$ growth"
   ]
  },
  {
   "cell_type": "code",
   "execution_count": null,
   "metadata": {},
   "outputs": [],
   "source": [
    "start = idx_500"
   ]
  },
  {
   "cell_type": "code",
   "execution_count": null,
   "metadata": {},
   "outputs": [],
   "source": [
    "dC = df['C'].diff()\n",
    "F = (dC * ((df['R'] / df['C']).shift(1))**2).cumsum() / 2\n",
    "F = F.iloc[start:] - F.iloc[start]"
   ]
  },
  {
   "cell_type": "markdown",
   "metadata": {},
   "source": [
    "Alternative computation via half of quadratic variation of log wealth:"
   ]
  },
  {
   "cell_type": "code",
   "execution_count": null,
   "metadata": {},
   "outputs": [],
   "source": [
    "nuhat = df['R'] / df['C']\n",
    "W_nuhat = (df['disc_ret'] * nuhat.shift(1) + 1).fillna(1).cumprod()\n",
    "\n",
    "tmp = np.log(W_nuhat.iloc[start:] /  W_nuhat.iloc[start])\n",
    "QV_log_wealth = (tmp.diff()**2).cumsum()/2\n",
    "QV_log_wealth.iloc[0] = 0.0"
   ]
  },
  {
   "cell_type": "code",
   "execution_count": null,
   "metadata": {},
   "outputs": [],
   "source": [
    "F.plot()\n",
    "QV_log_wealth.plot()\n",
    "plt.legend(['Maximal F-achievable growth', 'Half of quadratic variation of log wealth']);"
   ]
  },
  {
   "cell_type": "markdown",
   "metadata": {},
   "source": [
    "Difference appears on Black Monday (19 Oct 1987), when the market exhibits a huge negative return that makes the normal approximation invalid."
   ]
  },
  {
   "cell_type": "code",
   "execution_count": null,
   "metadata": {},
   "outputs": [],
   "source": [
    "df[idx_500+7700:].head()"
   ]
  },
  {
   "cell_type": "code",
   "execution_count": null,
   "metadata": {},
   "outputs": [],
   "source": []
  }
 ],
 "metadata": {
  "anaconda-cloud": {},
  "kernelspec": {
   "display_name": "Python 3 (ipykernel)",
   "language": "python",
   "name": "python3"
  },
  "language_info": {
   "codemirror_mode": {
    "name": "ipython",
    "version": 3
   },
   "file_extension": ".py",
   "mimetype": "text/x-python",
   "name": "python",
   "nbconvert_exporter": "python",
   "pygments_lexer": "ipython3",
   "version": "3.12.7"
  }
 },
 "nbformat": 4,
 "nbformat_minor": 4
}
